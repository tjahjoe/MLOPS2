{
 "cells": [
  {
   "cell_type": "markdown",
   "id": "92d80b9e",
   "metadata": {},
   "source": [
    "# Menjelaskan Dataset  "
   ]
  },
  {
   "cell_type": "markdown",
   "id": "03f48be8",
   "metadata": {},
   "source": [
    "## Informasi Atribut Dataset Diabetes\n",
    "\n",
    "Berikut adalah penjelasan masing-masing atribut pada dataset deteksi diabetes yang digunakan:\n",
    "\n",
    "- **Pregnancies**  \n",
    "  Untuk menyatakan jumlah kehamilan.\n",
    "\n",
    "- **Glucose**  \n",
    "  Untuk menyatakan kadar glukosa dalam darah.\n",
    "\n",
    "- **BloodPressure**  \n",
    "  Untuk menyatakan pengukuran tekanan darah.\n",
    "\n",
    "- **SkinThickness**  \n",
    "  Untuk menyatakan ketebalan lipatan kulit.\n",
    "\n",
    "- **Insulin**  \n",
    "  Untuk menyatakan kadar insulin dalam darah.\n",
    "\n",
    "- **BMI**  \n",
    "  Untuk menyatakan indeks massa tubuh.\n",
    "\n",
    "- **DiabetesPedigreeFunction**  \n",
    "  Untuk menyatakan persentase risiko diabetes berdasarkan silsilah keluarga.\n",
    "\n",
    "- **Age**  \n",
    "  Untuk menyatakan usia pasien.\n",
    "\n",
    "- **Outcome**  \n",
    "  Untuk menyatakan hasil akhir:\n",
    "  - `1` menunjukkan pasien **positif diabetes (Yes)**.\n",
    "  - `0` menunjukkan pasien **negatif diabetes (No)**.\n"
   ]
  },
  {
   "cell_type": "markdown",
   "id": "b06c4bd2",
   "metadata": {},
   "source": [
    "# Mempersiapkan Library"
   ]
  },
  {
   "cell_type": "markdown",
   "id": "9ef92b58",
   "metadata": {},
   "source": [
    "## Import Library Untuk Melakukan Prediksi\n",
    "- `import requests`, `import json`, `import base64`  \n",
    "  Digunakan untuk:\n",
    "  - `requests`: melakukan HTTP request jika pipeline akan upload model ke server lain.\n",
    "  - `json`: parsing dan pembuatan data JSON.\n",
    "  - `base64`: encoding/decoding data saat komunikasi dengan REST API.\n",
    "\n",
    "- `import tensorflow as tf`  \n",
    "  Untuk membuat, melatih, dan menyimpan model deep learning menggunakan TensorFlow."
   ]
  },
  {
   "cell_type": "code",
   "execution_count": 1,
   "id": "4acf9b3e",
   "metadata": {},
   "outputs": [],
   "source": [
    "import requests\n",
    "import json\n",
    "import tensorflow as tf\n",
    "import base64"
   ]
  },
  {
   "cell_type": "markdown",
   "id": "2c6e9c12",
   "metadata": {},
   "source": [
    "# # Melakukan Prediksi "
   ]
  },
  {
   "cell_type": "code",
   "execution_count": 2,
   "id": "c771a42f",
   "metadata": {},
   "outputs": [],
   "source": [
    "# Membuat dictionary raw_data yang akan digunakan untuk melakukan\n",
    "# prediksi menggunakan model deteksi diabetes yang telah dilatih\n",
    "raw_data = {\n",
    "    \"Pregnancies\": 6,                   # Jumlah kehamilan\n",
    "    \"Glucose\": 148,                     # Kadar glukosa dalam darah\n",
    "    \"BloodPressure\": 72,                # Tekanan darah\n",
    "    \"SkinThickness\": 35,                # Ketebalan lipatan kulit\n",
    "    \"Insulin\": 10,                      # Kadar insulin dalam darah\n",
    "    \"BMI\": 33.6,                        # Indeks massa tubuh\n",
    "    \"DiabetesPedigreeFunction\": 0.627,  # Persentase risiko diabetes\n",
    "    \"Age\": 50                           # Usia pasien\n",
    "}"
   ]
  },
  {
   "cell_type": "code",
   "execution_count": 3,
   "id": "bed1de97",
   "metadata": {},
   "outputs": [],
   "source": [
    "# Mendefinisikan fitur mana yang bertipe integer dan float,\n",
    "# untuk membantu encoding data input ke dalam format TFRecord\n",
    "\n",
    "int_features = [\"Pregnancies\", \"Glucose\", \"BloodPressure\", \"SkinThickness\", \"Insulin\", \"Age\"]\n",
    "float_features = [\"BMI\", \"DiabetesPedigreeFunction\"]\n",
    "\n",
    "feature_dict = {}\n",
    "\n",
    "# Melakukan iterasi pada raw_data untuk mengisi feature_dict sesuai tipe data\n",
    "for key, value in raw_data.items():\n",
    "    if key in int_features:\n",
    "        feature_dict[key] = tf.train.Feature(int64_list=tf.train.Int64List(value=[value]))\n",
    "    elif key in float_features:\n",
    "        feature_dict[key] = tf.train.Feature(float_list=tf.train.FloatList(value=[value]))\n",
    "    else:\n",
    "        raise ValueError(f\"Unknown feature: {key}\")\n",
    "\n",
    "# Membuat objek tf.train.Example yang berisi semua fitur dalam bentuk serialized\n",
    "# agar dapat digunakan sebagai input ke model TensorFlow saat prediksi\n",
    "example = tf.train.Example(features=tf.train.Features(feature=feature_dict))"
   ]
  },
  {
   "cell_type": "code",
   "execution_count": 4,
   "id": "0e08cc0f",
   "metadata": {},
   "outputs": [
    {
     "name": "stdout",
     "output_type": "stream",
     "text": [
      "Prediksi probabilitas: 0.997304857\n",
      "Hasil klasifikasi: Diabetes\n"
     ]
    }
   ],
   "source": [
    "# Mengubah tf.train.Example menjadi byte string\n",
    "serialized_example_bytes = example.SerializeToString()\n",
    "\n",
    "# Mengenkripsi byte string menjadi base64 agar dapat dikirim melalui JSON POST request\n",
    "encoded_example_string = base64.b64encode(serialized_example_bytes).decode('utf-8')\n",
    "\n",
    "# Menyusun payload JSON sesuai dengan format TensorFlow Serving REST API\n",
    "json_data = json.dumps({\n",
    "    \"instances\": [{\"examples\": {\"b64\": encoded_example_string}}]\n",
    "})\n",
    "\n",
    "# Mengirimkan POST request ke endpoint model TFX yang sudah dideploy\n",
    "response = requests.post(\n",
    "    'https://mlops2-production-fce5.up.railway.app/v1/models/cc-model:predict',\n",
    "    data=json_data\n",
    ")\n",
    "\n",
    "# Mengambil hasil JSON dari respons server\n",
    "prediction_output = response.json()\n",
    "\n",
    "if 'predictions' in prediction_output and len(prediction_output['predictions']) > 0:\n",
    "    probability = prediction_output['predictions'][0][0]\n",
    "\n",
    "    # Menentukan threshold klasifikasi untuk diabetes\n",
    "    threshold = 0.5\n",
    "\n",
    "    # Melakukan klasifikasi berdasarkan threshold\n",
    "    if probability >= threshold:\n",
    "        result = \"Diabetes\"\n",
    "    else:\n",
    "        result = \"Bukan Diabetes\"\n",
    "\n",
    "    # Menampilkan hasil probabilitas dan klasifikasi\n",
    "    print(f\"Prediksi probabilitas: {probability}\")\n",
    "    print(f\"Hasil klasifikasi: {result}\")\n",
    "\n",
    "else:\n",
    "    # Jika gagal mendapatkan prediksi, cetak respons untuk debugging\n",
    "    print(\"Gagal mendapatkan prediksi atau format respons tidak terduga.\")\n",
    "    print(prediction_output)"
   ]
  }
 ],
 "metadata": {
  "kernelspec": {
   "display_name": "Python 3 (ipykernel)",
   "language": "python",
   "name": "python3"
  },
  "language_info": {
   "codemirror_mode": {
    "name": "ipython",
    "version": 3
   },
   "file_extension": ".py",
   "mimetype": "text/x-python",
   "name": "python",
   "nbconvert_exporter": "python",
   "pygments_lexer": "ipython3",
   "version": "3.9.15"
  }
 },
 "nbformat": 4,
 "nbformat_minor": 5
}
